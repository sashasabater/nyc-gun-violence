{
 "cells": [
  {
   "cell_type": "code",
   "execution_count": 1,
   "id": "59f1df33",
   "metadata": {},
   "outputs": [],
   "source": [
    "import pandas as pd\n",
    "import numpy as np\n",
    "import matplotlib.pyplot as plt\n",
    "import geopandas as gpd\n",
    "import scipy.stats as stats \n",
    "%matplotlib inline"
   ]
  },
  {
   "cell_type": "code",
   "execution_count": 3,
   "id": "4c1be67e",
   "metadata": {},
   "outputs": [],
   "source": [
    "nypd = pd.read_csv('../data/nypd.csv')\n",
    "nypd['Date'] = pd.to_datetime(nypd['OCCUR_DATE'])\n",
    "nypd = nypd.drop('OCCUR_DATE', axis=1)"
   ]
  },
  {
   "cell_type": "code",
   "execution_count": 5,
   "id": "963e5646",
   "metadata": {},
   "outputs": [
    {
     "name": "stdout",
     "output_type": "stream",
     "text": [
      "<class 'pandas.core.frame.DataFrame'>\n",
      "RangeIndex: 23568 entries, 0 to 23567\n",
      "Data columns (total 19 columns):\n",
      " #   Column                   Non-Null Count  Dtype         \n",
      "---  ------                   --------------  -----         \n",
      " 0   INCIDENT_KEY             23568 non-null  int64         \n",
      " 1   OCCUR_TIME               23568 non-null  object        \n",
      " 2   BORO                     23568 non-null  object        \n",
      " 3   PRECINCT                 23568 non-null  int64         \n",
      " 4   JURISDICTION_CODE        23566 non-null  float64       \n",
      " 5   LOCATION_DESC            9987 non-null   object        \n",
      " 6   STATISTICAL_MURDER_FLAG  23568 non-null  bool          \n",
      " 7   PERP_AGE_GROUP           15109 non-null  object        \n",
      " 8   PERP_SEX                 15143 non-null  object        \n",
      " 9   PERP_RACE                15143 non-null  object        \n",
      " 10  VIC_AGE_GROUP            23568 non-null  object        \n",
      " 11  VIC_SEX                  23568 non-null  object        \n",
      " 12  VIC_RACE                 23568 non-null  object        \n",
      " 13  X_COORD_CD               23568 non-null  object        \n",
      " 14  Y_COORD_CD               23568 non-null  object        \n",
      " 15  Latitude                 23568 non-null  float64       \n",
      " 16  Longitude                23568 non-null  float64       \n",
      " 17  Lon_Lat                  23568 non-null  object        \n",
      " 18  Date                     23568 non-null  datetime64[ns]\n",
      "dtypes: bool(1), datetime64[ns](1), float64(3), int64(2), object(12)\n",
      "memory usage: 3.3+ MB\n"
     ]
    }
   ],
   "source": [
    "nypd.info()"
   ]
  },
  {
   "cell_type": "code",
   "execution_count": 5,
   "id": "2b0c0eda",
   "metadata": {},
   "outputs": [
    {
     "name": "stdout",
     "output_type": "stream",
     "text": [
      "<class 'pandas.core.frame.DataFrame'>\n",
      "RangeIndex: 23568 entries, 0 to 23567\n",
      "Data columns (total 19 columns):\n",
      " #   Column                   Non-Null Count  Dtype         \n",
      "---  ------                   --------------  -----         \n",
      " 0   INCIDENT_KEY             23568 non-null  int64         \n",
      " 1   OCCUR_TIME               23568 non-null  object        \n",
      " 2   BORO                     23568 non-null  object        \n",
      " 3   PRECINCT                 23568 non-null  int64         \n",
      " 4   JURISDICTION_CODE        23566 non-null  float64       \n",
      " 5   LOCATION_DESC            9987 non-null   object        \n",
      " 6   STATISTICAL_MURDER_FLAG  23568 non-null  bool          \n",
      " 7   PERP_AGE_GROUP           15109 non-null  object        \n",
      " 8   PERP_SEX                 15143 non-null  object        \n",
      " 9   PERP_RACE                15143 non-null  object        \n",
      " 10  VIC_AGE_GROUP            23568 non-null  object        \n",
      " 11  VIC_SEX                  23568 non-null  object        \n",
      " 12  VIC_RACE                 23568 non-null  object        \n",
      " 13  X_COORD_CD               23568 non-null  object        \n",
      " 14  Y_COORD_CD               23568 non-null  object        \n",
      " 15  Latitude                 23568 non-null  float64       \n",
      " 16  Longitude                23568 non-null  float64       \n",
      " 17  Lon_Lat                  23568 non-null  object        \n",
      " 18  Date                     23568 non-null  datetime64[ns]\n",
      "dtypes: bool(1), datetime64[ns](1), float64(3), int64(2), object(12)\n",
      "memory usage: 3.3+ MB\n"
     ]
    }
   ],
   "source": [
    "nypd.info()"
   ]
  },
  {
   "cell_type": "code",
   "execution_count": null,
   "id": "7700f816",
   "metadata": {},
   "outputs": [],
   "source": []
  }
 ],
 "metadata": {
  "kernelspec": {
   "display_name": "Python 3",
   "language": "python",
   "name": "python3"
  },
  "language_info": {
   "codemirror_mode": {
    "name": "ipython",
    "version": 3
   },
   "file_extension": ".py",
   "mimetype": "text/x-python",
   "name": "python",
   "nbconvert_exporter": "python",
   "pygments_lexer": "ipython3",
   "version": "3.8.2"
  }
 },
 "nbformat": 4,
 "nbformat_minor": 5
}
