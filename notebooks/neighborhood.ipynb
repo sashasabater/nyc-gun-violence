{
 "cells": [
  {
   "cell_type": "code",
   "execution_count": 1,
   "id": "c89460b1",
   "metadata": {},
   "outputs": [],
   "source": [
    "import pandas as pd\n",
    "import scipy.stats as stats\n",
    "import matplotlib.pyplot as plt\n",
    "import geopandas as gpd\n",
    "import numpy as np\n",
    "import requests\n",
    "from bs4 import BeautifulSoup\n",
    "plt.style.use('ggplot')\n",
    "%matplotlib inline"
   ]
  },
  {
   "cell_type": "code",
   "execution_count": 2,
   "id": "773bc6cd",
   "metadata": {},
   "outputs": [
    {
     "name": "stdout",
     "output_type": "stream",
     "text": [
      "cofo_data.csv                    median_rent_data.csv\r\n",
      "crime_rate_data.csv              poverty_rate_data (1).csv\r\n",
      "foreclosure_rate_data.csv        public_housing_data.csv\r\n",
      "income_distribution_data (1).csv race_composition_data.csv\r\n"
     ]
    }
   ],
   "source": [
    "!ls ../data/neighborhoods"
   ]
  },
  {
   "cell_type": "code",
   "execution_count": 3,
   "id": "4fc185e7",
   "metadata": {},
   "outputs": [],
   "source": [
    "#neighborhood demographic data\n",
    "income = pd.read_csv('../data/neighborhoods/income_distribution_data (1).csv')\n",
    "crime_rate = pd.read_csv('../data/neighborhoods/crime_rate_data.csv')\n",
    "median_rent = pd.read_csv('../data/neighborhoods/median_rent_data.csv')\n",
    "poverty = pd.read_csv('../data/neighborhoods/poverty_rate_data (1).csv')\n",
    "public_house = pd.read_csv('../data/neighborhoods/public_housing_data.csv')\n",
    "race = pd.read_csv('../data/neighborhoods/race_composition_data.csv')\n",
    "forclosure = pd.read_csv('../data/neighborhoods/foreclosure_rate_data.csv')\n"
   ]
  },
  {
   "cell_type": "code",
   "execution_count": 4,
   "id": "700ca032",
   "metadata": {},
   "outputs": [],
   "source": [
    "#districtmaps\n",
    "nyc_m = gpd.read_file('../data/map.geojson')\n"
   ]
  },
  {
   "cell_type": "code",
   "execution_count": 59,
   "id": "8366d40f",
   "metadata": {},
   "outputs": [],
   "source": [
    "income = income.rename(columns = {'year':'Year', '<= $20,000': 'less_than_20k', '$20,001 -\\n$40,000': 'less_than_40_k', '$40,001 -\\n$60,000': 'less_than_60k', '$60,001 -\\n$100,000':'less_than_100k', '$100,001 -\\n$250,000':'less_than_250k', '> $250,000': 'more_than_250k'})"
   ]
  },
  {
   "cell_type": "code",
   "execution_count": 72,
   "id": "66f91391",
   "metadata": {},
   "outputs": [],
   "source": [
    "def delete_dup(df, lst):\n",
    "    df = df.drop(lst, axis=1)\n",
    "    return df\n"
   ]
  },
  {
   "cell_type": "code",
   "execution_count": 91,
   "id": "c57300be",
   "metadata": {},
   "outputs": [
    {
     "name": "stdout",
     "output_type": "stream",
     "text": [
      "Boro\n",
      "1    BX\n",
      "2    BK\n",
      "3    MN\n",
      "4    QN\n",
      "5    SI\n",
      "Name: Geography, dtype: object\n",
      "City\n",
      "0    NYC\n",
      "Name: Geography, dtype: object\n",
      "Community District\n",
      "6     BX 01\n",
      "7     BX 02\n",
      "8     BX 03\n",
      "9     BX 04\n",
      "10    BX 05\n",
      "11    BX 06\n",
      "12    BX 07\n",
      "13    BX 08\n",
      "14    BX 09\n",
      "15    BX 10\n",
      "16    BX 11\n",
      "17    BX 12\n",
      "18    BK 01\n",
      "19    BK 02\n",
      "20    BK 03\n",
      "21    BK 04\n",
      "22    BK 05\n",
      "23    BK 06\n",
      "24    BK 07\n",
      "25    BK 08\n",
      "26    BK 09\n",
      "27    BK 10\n",
      "28    BK 11\n",
      "29    BK 12\n",
      "30    BK 13\n",
      "31    BK 14\n",
      "32    BK 15\n",
      "33    BK 16\n",
      "34    BK 17\n",
      "35    BK 18\n",
      "36    MN 01\n",
      "37    MN 02\n",
      "38    MN 03\n",
      "39    MN 04\n",
      "40    MN 05\n",
      "41    MN 06\n",
      "42    MN 07\n",
      "43    MN 08\n",
      "44    MN 09\n",
      "45    MN 10\n",
      "46    MN 11\n",
      "47    MN 12\n",
      "48    QN 01\n",
      "49    QN 02\n",
      "50    QN 03\n",
      "51    QN 04\n",
      "52    QN 05\n",
      "53    QN 06\n",
      "54    QN 07\n",
      "55    QN 08\n",
      "56    QN 09\n",
      "57    QN 10\n",
      "58    QN 11\n",
      "59    QN 12\n",
      "60    QN 13\n",
      "61    QN 14\n",
      "62    SI 01\n",
      "63    SI 02\n",
      "64    SI 03\n",
      "Name: Geography, dtype: object\n"
     ]
    }
   ],
   "source": [
    "for name, group in median_rent.groupby('Level')['Geography']:\n",
    "    print(name)\n",
    "    print(group)"
   ]
  },
  {
   "cell_type": "code",
   "execution_count": null,
   "id": "75148d04",
   "metadata": {},
   "outputs": [],
   "source": []
  },
  {
   "cell_type": "code",
   "execution_count": null,
   "id": "78841a2a",
   "metadata": {},
   "outputs": [],
   "source": []
  }
 ],
 "metadata": {
  "kernelspec": {
   "display_name": "Python 3",
   "language": "python",
   "name": "python3"
  },
  "language_info": {
   "codemirror_mode": {
    "name": "ipython",
    "version": 3
   },
   "file_extension": ".py",
   "mimetype": "text/x-python",
   "name": "python",
   "nbconvert_exporter": "python",
   "pygments_lexer": "ipython3",
   "version": "3.8.2"
  }
 },
 "nbformat": 4,
 "nbformat_minor": 5
}
